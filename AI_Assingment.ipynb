{
  "nbformat": 4,
  "nbformat_minor": 0,
  "metadata": {
    "colab": {
      "provenance": []
    },
    "kernelspec": {
      "name": "python3",
      "display_name": "Python 3"
    },
    "language_info": {
      "name": "python"
    }
  },
  "cells": [
    {
      "cell_type": "code",
      "source": [
        "import tensorflow as tf\n",
        "from tensorflow.keras import layers, models"
      ],
      "metadata": {
        "id": "P_UUMeQRCyzN"
      },
      "execution_count": null,
      "outputs": []
    },
    {
      "cell_type": "code",
      "source": [
        "# Loading Mnist  dataset\n",
        "mnist = tf.keras.datasets.mnist\n",
        "(x_train, y_train), (x_test, y_test) = mnist.load_data()\n",
        "x_train, x_test = x_train / 255.0, x_test / 255.0\n",
        "x_train = x_train.reshape(-1, 28, 28, 1)\n",
        "x_test = x_test.reshape(-1, 28, 28, 1)\n"
      ],
      "metadata": {
        "id": "myTQDaaSC2T9"
      },
      "execution_count": null,
      "outputs": []
    },
    {
      "cell_type": "code",
      "source": [
        "# Creating CNN model\n",
        "model = models.Sequential([\n",
        "    layers.Conv2D(32, (3, 3), activation='relu', input_shape=(28, 28, 1)),\n",
        "    layers.BatchNormalization(),\n",
        "    layers.Conv2D(32, (3, 3), activation='relu'),\n",
        "    layers.BatchNormalization(),\n",
        "    layers.MaxPooling2D((2, 2)),\n",
        "    layers.Dropout(0.25),\n",
        "\n",
        "    layers.Conv2D(64, (3, 3), activation='relu'),\n",
        "    layers.BatchNormalization(),\n",
        "    layers.Conv2D(64, (3, 3), activation='relu'),\n",
        "    layers.BatchNormalization(),\n",
        "    layers.MaxPooling2D((2, 2)),\n",
        "    layers.Dropout(0.25),\n",
        "\n",
        "    layers.Flatten(),\n",
        "    layers.Dense(512, activation='relu'),\n",
        "    layers.BatchNormalization(),\n",
        "    layers.Dropout(0.5),\n",
        "    layers.Dense(10, activation='softmax')   #to get the probablities of each digit for classification\n",
        "])"
      ],
      "metadata": {
        "id": "O6DVB0FWC_tT"
      },
      "execution_count": null,
      "outputs": []
    },
    {
      "cell_type": "code",
      "source": [
        "\n",
        "model.compile(optimizer='adam',\n",
        "              loss='sparse_categorical_crossentropy',\n",
        "              metrics=['accuracy'])\n",
        "\n",
        "model.fit(x_train, y_train, epochs=15, validation_data=(x_test, y_test))\n",
        "\n"
      ],
      "metadata": {
        "colab": {
          "base_uri": "https://localhost:8080/"
        },
        "id": "PqZLfdTtbYzh",
        "outputId": "e4920857-7f82-4ec5-afb9-90e16333431f"
      },
      "execution_count": null,
      "outputs": [
        {
          "output_type": "stream",
          "name": "stdout",
          "text": [
            "Epoch 1/15\n",
            "1875/1875 [==============================] - 197s 104ms/step - loss: 0.1611 - accuracy: 0.9515 - val_loss: 0.0368 - val_accuracy: 0.9874\n",
            "Epoch 2/15\n",
            "1875/1875 [==============================] - 195s 104ms/step - loss: 0.0701 - accuracy: 0.9786 - val_loss: 0.0308 - val_accuracy: 0.9902\n",
            "Epoch 3/15\n",
            "1875/1875 [==============================] - 193s 103ms/step - loss: 0.0579 - accuracy: 0.9821 - val_loss: 0.0245 - val_accuracy: 0.9923\n",
            "Epoch 4/15\n",
            "1875/1875 [==============================] - 191s 102ms/step - loss: 0.0484 - accuracy: 0.9855 - val_loss: 0.0245 - val_accuracy: 0.9919\n",
            "Epoch 5/15\n",
            "1875/1875 [==============================] - 190s 101ms/step - loss: 0.0426 - accuracy: 0.9872 - val_loss: 0.0276 - val_accuracy: 0.9904\n",
            "Epoch 6/15\n",
            "1875/1875 [==============================] - 191s 102ms/step - loss: 0.0400 - accuracy: 0.9881 - val_loss: 0.0223 - val_accuracy: 0.9929\n",
            "Epoch 7/15\n",
            "1875/1875 [==============================] - 194s 103ms/step - loss: 0.0368 - accuracy: 0.9893 - val_loss: 0.0200 - val_accuracy: 0.9937\n",
            "Epoch 8/15\n",
            "1875/1875 [==============================] - 187s 100ms/step - loss: 0.0309 - accuracy: 0.9908 - val_loss: 0.0273 - val_accuracy: 0.9930\n",
            "Epoch 9/15\n",
            "1875/1875 [==============================] - 190s 101ms/step - loss: 0.0289 - accuracy: 0.9915 - val_loss: 0.0180 - val_accuracy: 0.9947\n",
            "Epoch 10/15\n",
            "1875/1875 [==============================] - 194s 103ms/step - loss: 0.0284 - accuracy: 0.9912 - val_loss: 0.0186 - val_accuracy: 0.9955\n",
            "Epoch 11/15\n",
            "1875/1875 [==============================] - 189s 101ms/step - loss: 0.0242 - accuracy: 0.9925 - val_loss: 0.0220 - val_accuracy: 0.9933\n",
            "Epoch 12/15\n",
            "1875/1875 [==============================] - 194s 104ms/step - loss: 0.0257 - accuracy: 0.9920 - val_loss: 0.0173 - val_accuracy: 0.9949\n",
            "Epoch 13/15\n",
            "1875/1875 [==============================] - 187s 100ms/step - loss: 0.0231 - accuracy: 0.9930 - val_loss: 0.0159 - val_accuracy: 0.9954\n",
            "Epoch 14/15\n",
            "1875/1875 [==============================] - 192s 102ms/step - loss: 0.0215 - accuracy: 0.9935 - val_loss: 0.0175 - val_accuracy: 0.9943\n",
            "Epoch 15/15\n",
            "1875/1875 [==============================] - 191s 102ms/step - loss: 0.0210 - accuracy: 0.9937 - val_loss: 0.0173 - val_accuracy: 0.9946\n"
          ]
        }
      ]
    },
    {
      "cell_type": "code",
      "source": [
        "model.save('mnist_model.h5')"
      ],
      "metadata": {
        "id": "W6G3myFyCyv8"
      },
      "execution_count": null,
      "outputs": []
    },
    {
      "cell_type": "markdown",
      "source": [
        "#Web Service Creation"
      ],
      "metadata": {
        "id": "HOPDtSD-W5Lo"
      }
    },
    {
      "cell_type": "code",
      "source": [
        "# # app.py\n",
        "# from flask import Flask, request, jsonify\n",
        "# import tensorflow as tf\n",
        "\n",
        "# app = Flask(__name__)\n",
        "\n",
        "# # Load the trained model\n",
        "# model = tf.keras.models.load_model('mnist_model.h5')\n",
        "\n",
        "# @app.route('/predict', methods=['POST'])\n",
        "# def predict():\n",
        "#     try:\n",
        "#         # Receive image data from the client\n",
        "#         data = request.json['data']\n",
        "\n",
        "#         # Perform prediction\n",
        "#         predictions = model.predict([data])\n",
        "\n",
        "#         # Return the prediction result\n",
        "#         result = {'prediction': predictions.tolist()}\n",
        "#         return jsonify(result)\n",
        "#     except Exception as e:\n",
        "#         return str(e), 400\n",
        "\n",
        "# if __name__ == '__main__':\n",
        "#     app.run(host='0.0.0.0', port=5000)\n"
      ],
      "metadata": {
        "colab": {
          "base_uri": "https://localhost:8080/"
        },
        "id": "2kgqXgDUXpaM",
        "outputId": "2507a4bd-bb2b-453c-c28d-bf2cc02fd68e"
      },
      "execution_count": null,
      "outputs": [
        {
          "output_type": "stream",
          "name": "stdout",
          "text": [
            " * Serving Flask app '__main__'\n",
            " * Debug mode: off\n"
          ]
        },
        {
          "output_type": "stream",
          "name": "stderr",
          "text": [
            "INFO:werkzeug:\u001b[31m\u001b[1mWARNING: This is a development server. Do not use it in a production deployment. Use a production WSGI server instead.\u001b[0m\n",
            " * Running on all addresses (0.0.0.0)\n",
            " * Running on http://127.0.0.1:5000\n",
            " * Running on http://172.28.0.12:5000\n",
            "INFO:werkzeug:\u001b[33mPress CTRL+C to quit\u001b[0m\n"
          ]
        }
      ]
    },
    {
      "cell_type": "code",
      "source": [],
      "metadata": {
        "id": "PupGQAuic1la"
      },
      "execution_count": null,
      "outputs": []
    },
    {
      "cell_type": "code",
      "source": [],
      "metadata": {
        "id": "bI1Y8M6Mb5Ia"
      },
      "execution_count": null,
      "outputs": []
    }
  ]
}